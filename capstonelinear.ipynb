{
 "cells": [
  {
   "cell_type": "code",
   "execution_count": 1,
   "metadata": {},
   "outputs": [],
   "source": [
    "import pandas as pd\n",
    "import seaborn as sns\n",
    "import numpy as np\n",
    "import glob, os\n",
    "\n",
    "from sklearn.model_selection import train_test_split, cross_val_score, GridSearchCV\n",
    "from sklearn import preprocessing\n",
    "\n",
    "from sklearn.impute import SimpleImputer\n",
    "\n",
    "from sklearn.linear_model import LinearRegression\n",
    "\n",
    "from sklearn_pandas import DataFrameMapper, CategoricalImputer\n",
    "from sklearn.preprocessing import LabelBinarizer, MultiLabelBinarizer,  StandardScaler, LabelEncoder\n",
    "\n",
    "import sklearn.decomposition, sklearn.linear_model, sklearn.pipeline, sklearn.metrics\n",
    "from sklearn.feature_extraction.text import CountVectorizer\n",
    "from sklearn.impute import SimpleImputer\n",
    "from sklearn.pipeline import Pipeline\n",
    "\n",
    "import pickle\n",
    "from sklearn.metrics import r2_score, accuracy_score, mean_squared_error\n",
    "\n",
    "from sklearn.metrics import classification_report\n",
    "\n",
    "from sklearn.neighbors import KNeighborsRegressor\n",
    "from sklearn.tree import DecisionTreeRegressor\n",
    "from sklearn.ensemble import BaggingRegressor, RandomForestRegressor, AdaBoostRegressor\n",
    "from sklearn.svm import SVR\n",
    "\n",
    "from sklearn.model_selection import train_test_split\n",
    "\n",
    "\n",
    "pd.set_option('display.max_rows', 100)\n",
    "#np.set.printoptions(prediction = 4)\n",
    "#pd.set_option('display.max_colwidth', -1)"
   ]
  },
  {
   "cell_type": "code",
   "execution_count": 2,
   "metadata": {},
   "outputs": [],
   "source": [
    "##Rename multiple csv files in a folder with Python\n",
    "def rename(dir, pathAndfilename, pattern, tittlePattern):\n",
    "    os.rename(pathAndfilename, os.path.join(dir, tittlePattern))\n"
   ]
  },
  {
   "cell_type": "code",
   "execution_count": 3,
   "metadata": {},
   "outputs": [],
   "source": [
    "##search for csv files in the working folderp\n",
    "path = os.path.expanduser('data/*.csv*')"
   ]
  },
  {
   "cell_type": "code",
   "execution_count": 4,
   "metadata": {},
   "outputs": [],
   "source": [
    "##iterate and rename them one by one with the number of the iteration\n",
    "try:\n",
    "    for i, fname in enumerate(glob.glob(path)):\n",
    "        rename(os.path.expanduser('data/'), fname, r'*csv', r'test{}.csv'.format(i))\n",
    "except:\n",
    "    pass"
   ]
  },
  {
   "cell_type": "code",
   "execution_count": 5,
   "metadata": {},
   "outputs": [],
   "source": [
    "result = pd.DataFrame()"
   ]
  },
  {
   "cell_type": "code",
   "execution_count": 6,
   "metadata": {},
   "outputs": [],
   "source": [
    "for  fname in  glob.glob(path):\n",
    "    head, tail = os.path.split(fname)\n",
    "    df = pd.read_csv(fname, sep = ',')\n",
    "    df3 = df.sort_values(by=['REF_DATE'], ascending = True).drop(['DGUID'], axis =1)\n",
    "    df3['channel']= tail\n",
    "    result = pd.concat([result, df3])"
   ]
  },
  {
   "cell_type": "code",
   "execution_count": 7,
   "metadata": {},
   "outputs": [],
   "source": [
    "df1 = result.drop(['VECTOR', 'STATUS','COORDINATE','SYMBOL', 'TERMINATED', 'DECIMALS', 'channel'], axis = 1)"
   ]
  },
  {
   "cell_type": "code",
   "execution_count": 8,
   "metadata": {},
   "outputs": [],
   "source": [
    "df1 = df1[df1.GEO=='Canada']"
   ]
  },
  {
   "cell_type": "code",
   "execution_count": 9,
   "metadata": {},
   "outputs": [
    {
     "data": {
      "text/plain": [
       "REF_DATE                                          0\n",
       "GEO                                               0\n",
       "Wages                                             0\n",
       "Type of work                                      0\n",
       "National Occupational Classification (NOC)        0\n",
       "Sex                                               0\n",
       "Age group                                         0\n",
       "UOM                                               0\n",
       "UOM_ID                                            0\n",
       "SCALAR_FACTOR                                     0\n",
       "SCALAR_ID                                         0\n",
       "VALUE                                         16990\n",
       "dtype: int64"
      ]
     },
     "execution_count": 9,
     "metadata": {},
     "output_type": "execute_result"
    }
   ],
   "source": [
    "df1.isnull().sum()"
   ]
  },
  {
   "cell_type": "code",
   "execution_count": 10,
   "metadata": {},
   "outputs": [],
   "source": [
    "df1 = df1[df1.Wages =='Total employees, all wages']"
   ]
  },
  {
   "cell_type": "code",
   "execution_count": 11,
   "metadata": {},
   "outputs": [],
   "source": [
    "df1 = df1[df1.UOM =='Persons']"
   ]
  },
  {
   "cell_type": "code",
   "execution_count": 12,
   "metadata": {},
   "outputs": [],
   "source": [
    "df1 = df1.drop(['REF_DATE','Wages','GEO', 'UOM', 'UOM_ID', 'SCALAR_FACTOR', 'SCALAR_ID'], axis = 1)"
   ]
  },
  {
   "cell_type": "code",
   "execution_count": 13,
   "metadata": {},
   "outputs": [],
   "source": [
    "df1 = df1.rename(columns={'Type of work': 'fulltime_parttime', 'National Occupational Classification (NOC)': 'occupation', 'Sex': 'gender', 'Age group': 'age_group', 'VALUE':'value'})"
   ]
  },
  {
   "cell_type": "code",
   "execution_count": 14,
   "metadata": {},
   "outputs": [],
   "source": [
    "df1 = df1[df1.fulltime_parttime != 'Both full- and part-time employees']"
   ]
  },
  {
   "cell_type": "code",
   "execution_count": 15,
   "metadata": {},
   "outputs": [],
   "source": [
    "df1 = df1[df1.gender !='Both sexes']"
   ]
  },
  {
   "cell_type": "code",
   "execution_count": 16,
   "metadata": {},
   "outputs": [],
   "source": [
    "df1 = df1[df1.occupation != 'Total employees, all occupations']"
   ]
  },
  {
   "cell_type": "code",
   "execution_count": 17,
   "metadata": {},
   "outputs": [],
   "source": [
    "df1 = df1[df1.age_group != '15 years and over']"
   ]
  },
  {
   "cell_type": "code",
   "execution_count": 18,
   "metadata": {},
   "outputs": [],
   "source": [
    "#df.fillna(df.mean(), inplace=True)\n",
    "\n",
    "df1['value'] = df1['value'].fillna((df1['value'].mean()))"
   ]
  },
  {
   "cell_type": "code",
   "execution_count": null,
   "metadata": {},
   "outputs": [],
   "source": [
    "#df1['value']"
   ]
  },
  {
   "cell_type": "code",
   "execution_count": 19,
   "metadata": {},
   "outputs": [],
   "source": [
    "df1['gender'] = df1['gender'].apply({'Females': 1, 'Males': 0}.get)\n"
   ]
  },
  {
   "cell_type": "code",
   "execution_count": 20,
   "metadata": {},
   "outputs": [
    {
     "data": {
      "text/plain": [
       "1    6600\n",
       "0    6600\n",
       "Name: gender, dtype: int64"
      ]
     },
     "execution_count": 20,
     "metadata": {},
     "output_type": "execute_result"
    }
   ],
   "source": [
    "df1['gender'].value_counts()"
   ]
  },
  {
   "cell_type": "code",
   "execution_count": 21,
   "metadata": {},
   "outputs": [
    {
     "data": {
      "text/plain": [
       "<seaborn.axisgrid.FacetGrid at 0x29f861886c8>"
      ]
     },
     "execution_count": 21,
     "metadata": {},
     "output_type": "execute_result"
    },
    {
     "data": {
      "image/png": "[encoded data removed]",
      "text/plain": [
       "<Figure size 360x360 with 1 Axes>"
      ]
     },
     "metadata": {
      "needs_background": "light"
     },
     "output_type": "display_data"
    }
   ],
   "source": [
    "sns.lmplot(x='gender', y='value', data=df1)"
   ]
  },
  {
   "cell_type": "code",
   "execution_count": 22,
   "metadata": {},
   "outputs": [
    {
     "data": {
      "text/plain": [
       "0"
      ]
     },
     "execution_count": 22,
     "metadata": {},
     "output_type": "execute_result"
    }
   ],
   "source": [
    "df1['value'].isnull().sum()"
   ]
  },
  {
   "cell_type": "code",
   "execution_count": 23,
   "metadata": {},
   "outputs": [],
   "source": [
    "target = 'value'\n",
    "y = df1[target]\n",
    "X = df1.drop(target, axis = 1)"
   ]
  },
  {
   "cell_type": "code",
   "execution_count": 24,
   "metadata": {},
   "outputs": [
    {
     "name": "stdout",
     "output_type": "stream",
     "text": [
      "<class 'pandas.core.frame.DataFrame'>\n",
      "Int64Index: 13200 entries, 1043 to 18407\n",
      "Data columns (total 4 columns):\n",
      "fulltime_parttime    13200 non-null object\n",
      "occupation           13200 non-null object\n",
      "gender               13200 non-null int64\n",
      "age_group            13200 non-null object\n",
      "dtypes: int64(1), object(3)\n",
      "memory usage: 515.6+ KB\n"
     ]
    }
   ],
   "source": [
    "X.info()"
   ]
  },
  {
   "cell_type": "code",
   "execution_count": 25,
   "metadata": {},
   "outputs": [],
   "source": [
    "X_train, X_test, y_train, y_test = train_test_split(X,y, test_size = 0.3, random_state = 42)"
   ]
  },
  {
   "cell_type": "code",
   "execution_count": null,
   "metadata": {},
   "outputs": [],
   "source": [
    "y_train"
   ]
  },
  {
   "cell_type": "code",
   "execution_count": null,
   "metadata": {},
   "outputs": [],
   "source": [
    "y_train"
   ]
  },
  {
   "cell_type": "code",
   "execution_count": 26,
   "metadata": {},
   "outputs": [
    {
     "data": {
      "text/plain": [
       "LabelEncoder()"
      ]
     },
     "execution_count": 26,
     "metadata": {},
     "output_type": "execute_result"
    }
   ],
   "source": [
    "le = preprocessing.LabelEncoder()\n",
    "\n",
    "le.fit(X_train['occupation'])\n",
    "le.fit(X_test['occupation'])\n",
    "\n",
    "le.fit(X_train['fulltime_parttime'])\n",
    "le.fit(X_test['fulltime_parttime'])\n",
    "\n",
    "le.fit(X_train['age_group'])\n",
    "le.fit(X_test['age_group'])\n",
    "\n",
    "le.fit(X_train['gender'])\n",
    "le.fit(X_test['gender'])\n"
   ]
  },
  {
   "cell_type": "code",
   "execution_count": 27,
   "metadata": {},
   "outputs": [],
   "source": [
    "mapper = DataFrameMapper([\n",
    "    (['occupation'], [LabelBinarizer()]),\n",
    "    (['gender'], [LabelBinarizer()]),\n",
    "    (['fulltime_parttime'], [LabelBinarizer()]),\n",
    "    (['age_group'], [LabelBinarizer()])\n",
    "    ], df_out= True)"
   ]
  },
  {
   "cell_type": "code",
   "execution_count": null,
   "metadata": {},
   "outputs": [],
   "source": [
    "mapper"
   ]
  },
  {
   "cell_type": "code",
   "execution_count": 28,
   "metadata": {},
   "outputs": [],
   "source": [
    "Z_train= mapper.fit(X_train)\n"
   ]
  },
  {
   "cell_type": "code",
   "execution_count": 29,
   "metadata": {},
   "outputs": [],
   "source": [
    "Z_train= mapper.transform(X_train)"
   ]
  },
  {
   "cell_type": "code",
   "execution_count": null,
   "metadata": {},
   "outputs": [],
   "source": [
    "Z_train"
   ]
  },
  {
   "cell_type": "code",
   "execution_count": 30,
   "metadata": {},
   "outputs": [],
   "source": [
    "Z_test = mapper.transform(X_test)"
   ]
  },
  {
   "cell_type": "code",
   "execution_count": null,
   "metadata": {},
   "outputs": [],
   "source": [
    "Z_test"
   ]
  },
  {
   "cell_type": "code",
   "execution_count": 31,
   "metadata": {},
   "outputs": [],
   "source": [
    "model = LinearRegression(normalize=False)\n",
    "\n"
   ]
  },
  {
   "cell_type": "code",
   "execution_count": 32,
   "metadata": {},
   "outputs": [
    {
     "data": {
      "text/plain": [
       "LinearRegression(copy_X=True, fit_intercept=True, n_jobs=None, normalize=False)"
      ]
     },
     "execution_count": 32,
     "metadata": {},
     "output_type": "execute_result"
    }
   ],
   "source": [
    "model.fit(Z_train, y_train)"
   ]
  },
  {
   "cell_type": "code",
   "execution_count": 33,
   "metadata": {},
   "outputs": [],
   "source": [
    "y_pred = model.predict(Z_test)"
   ]
  },
  {
   "cell_type": "code",
   "execution_count": null,
   "metadata": {},
   "outputs": [],
   "source": [
    "y_pred"
   ]
  },
  {
   "cell_type": "code",
   "execution_count": 34,
   "metadata": {},
   "outputs": [],
   "source": [
    "from sklearn.metrics import mean_squared_error, r2_score\n",
    "\n",
    "def rmse_score(model, Z_train, Z_test, y_train, y_test):\n",
    "    mse_train = mean_squared_error(y_true = y_train,\n",
    "                                  y_pred = model.predict(Z_train))\n",
    "    mse_test = mean_squared_error(y_true = y_test,\n",
    "                                  y_pred = model.predict(Z_test))\n",
    "    rmse_train = mse_train ** 0.5/100\n",
    "    rmse_test = mse_test ** 0.5/100\n",
    "    \n",
    "    print(\"The training RMSE for \" + str(model) + \" is: \" + str(rmse_train))\n",
    "    print(\"The testing RMSE for \" + str(model) + \"\\ is: \" + str(rmse_test))\n",
    "    return (rmse_train, rmse_test)\n",
    "\n"
   ]
  },
  {
   "cell_type": "code",
   "execution_count": 35,
   "metadata": {},
   "outputs": [
    {
     "name": "stdout",
     "output_type": "stream",
     "text": [
      "The training RMSE for LinearRegression(copy_X=True, fit_intercept=True, n_jobs=None, normalize=False) is: 0.9292061065269871\n",
      "The testing RMSE for LinearRegression(copy_X=True, fit_intercept=True, n_jobs=None, normalize=False)\\ is: 0.9416314117564343\n"
     ]
    },
    {
     "data": {
      "text/plain": [
       "(0.9292061065269871, 0.9416314117564343)"
      ]
     },
     "execution_count": 35,
     "metadata": {},
     "output_type": "execute_result"
    }
   ],
   "source": [
    "rmse_score(model, Z_train, Z_test, y_train, y_test)"
   ]
  },
  {
   "cell_type": "code",
   "execution_count": null,
   "metadata": {},
   "outputs": [],
   "source": [
    "y_test"
   ]
  },
  {
   "cell_type": "code",
   "execution_count": null,
   "metadata": {},
   "outputs": [],
   "source": [
    "y_pred"
   ]
  },
  {
   "cell_type": "code",
   "execution_count": 36,
   "metadata": {},
   "outputs": [
    {
     "data": {
      "text/plain": [
       "0.2918472587198804"
      ]
     },
     "execution_count": 36,
     "metadata": {},
     "output_type": "execute_result"
    }
   ],
   "source": [
    "r2_score(y_test, y_pred)"
   ]
  },
  {
   "cell_type": "code",
   "execution_count": null,
   "metadata": {},
   "outputs": [],
   "source": [
    "Z_test.shape"
   ]
  },
  {
   "cell_type": "code",
   "execution_count": null,
   "metadata": {},
   "outputs": [],
   "source": [
    "y_test.size"
   ]
  },
  {
   "cell_type": "code",
   "execution_count": null,
   "metadata": {},
   "outputs": [],
   "source": [
    "y_pred.size"
   ]
  },
  {
   "cell_type": "code",
   "execution_count": 37,
   "metadata": {},
   "outputs": [
    {
     "name": "stdout",
     "output_type": "stream",
     "text": [
      "The training RMSE for KNeighborsRegressor(algorithm='auto', leaf_size=30, metric='minkowski',\n",
      "                    metric_params=None, n_jobs=None, n_neighbors=5, p=2,\n",
      "                    weights='uniform') is: 0.17781672850890032\n",
      "The testing RMSE for KNeighborsRegressor(algorithm='auto', leaf_size=30, metric='minkowski',\n",
      "                    metric_params=None, n_jobs=None, n_neighbors=5, p=2,\n",
      "                    weights='uniform')\\ is: 0.20277153650769975\n"
     ]
    },
    {
     "data": {
      "text/plain": [
       "(0.17781672850890032, 0.20277153650769975)"
      ]
     },
     "execution_count": 37,
     "metadata": {},
     "output_type": "execute_result"
    }
   ],
   "source": [
    "knn_reg = KNeighborsRegressor()\n",
    "knn_reg.fit(Z_train, y_train)\n",
    "\n",
    "rmse_score(knn_reg, Z_train, Z_test, y_train, y_test)\n"
   ]
  },
  {
   "cell_type": "code",
   "execution_count": 38,
   "metadata": {},
   "outputs": [
    {
     "name": "stdout",
     "output_type": "stream",
     "text": [
      "The training RMSE for DecisionTreeRegressor(ccp_alpha=0.0, criterion='mse', max_depth=None,\n",
      "                      max_features=None, max_leaf_nodes=None,\n",
      "                      min_impurity_decrease=0.0, min_impurity_split=None,\n",
      "                      min_samples_leaf=1, min_samples_split=2,\n",
      "                      min_weight_fraction_leaf=0.0, presort='deprecated',\n",
      "                      random_state=None, splitter='best') is: 0.16794125174620345\n",
      "The testing RMSE for DecisionTreeRegressor(ccp_alpha=0.0, criterion='mse', max_depth=None,\n",
      "                      max_features=None, max_leaf_nodes=None,\n",
      "                      min_impurity_decrease=0.0, min_impurity_split=None,\n",
      "                      min_samples_leaf=1, min_samples_split=2,\n",
      "                      min_weight_fraction_leaf=0.0, presort='deprecated',\n",
      "                      random_state=None, splitter='best')\\ is: 0.19066790152831378\n"
     ]
    },
    {
     "data": {
      "text/plain": [
       "(0.16794125174620345, 0.19066790152831378)"
      ]
     },
     "execution_count": 38,
     "metadata": {},
     "output_type": "execute_result"
    }
   ],
   "source": [
    "cart_reg = DecisionTreeRegressor()\n",
    "cart_reg.fit(Z_train, y_train)\n",
    "\n",
    "rmse_score(cart_reg, Z_train, Z_test, y_train, y_test)\n"
   ]
  },
  {
   "cell_type": "code",
   "execution_count": 39,
   "metadata": {},
   "outputs": [
    {
     "name": "stdout",
     "output_type": "stream",
     "text": [
      "The training RMSE for BaggingRegressor(base_estimator=None, bootstrap=True, bootstrap_features=False,\n",
      "                 max_features=1.0, max_samples=1.0, n_estimators=10,\n",
      "                 n_jobs=None, oob_score=False, random_state=None, verbose=0,\n",
      "                 warm_start=False) is: 0.16857567498213247\n",
      "The testing RMSE for BaggingRegressor(base_estimator=None, bootstrap=True, bootstrap_features=False,\n",
      "                 max_features=1.0, max_samples=1.0, n_estimators=10,\n",
      "                 n_jobs=None, oob_score=False, random_state=None, verbose=0,\n",
      "                 warm_start=False)\\ is: 0.19194192258604925\n"
     ]
    },
    {
     "data": {
      "text/plain": [
       "(0.16857567498213247, 0.19194192258604925)"
      ]
     },
     "execution_count": 39,
     "metadata": {},
     "output_type": "execute_result"
    }
   ],
   "source": [
    "bagged_reg = BaggingRegressor()\n",
    "bagged_reg.fit(Z_train, y_train)\n",
    "\n",
    "rmse_score(bagged_reg, Z_train, Z_test, y_train, y_test)\n",
    "\n",
    "\n",
    "\n"
   ]
  },
  {
   "cell_type": "code",
   "execution_count": 40,
   "metadata": {},
   "outputs": [
    {
     "name": "stdout",
     "output_type": "stream",
     "text": [
      "The training RMSE for AdaBoostRegressor(base_estimator=None, learning_rate=1.0, loss='linear',\n",
      "                  n_estimators=50, random_state=None) is: 1.2132515625002391\n",
      "The testing RMSE for AdaBoostRegressor(base_estimator=None, learning_rate=1.0, loss='linear',\n",
      "                  n_estimators=50, random_state=None)\\ is: 1.261074058594591\n"
     ]
    },
    {
     "data": {
      "text/plain": [
       "(1.2132515625002391, 1.261074058594591)"
      ]
     },
     "execution_count": 40,
     "metadata": {},
     "output_type": "execute_result"
    }
   ],
   "source": [
    "adaboost_reg = AdaBoostRegressor()\n",
    "adaboost_reg.fit(Z_train, y_train)\n",
    "\n",
    "rmse_score(adaboost_reg, Z_train, Z_test, y_train, y_test)"
   ]
  },
  {
   "cell_type": "code",
   "execution_count": 41,
   "metadata": {},
   "outputs": [
    {
     "name": "stdout",
     "output_type": "stream",
     "text": [
      "The training RMSE for SVR(C=1.0, cache_size=200, coef0=0.0, degree=3, epsilon=0.1, gamma='scale',\n",
      "    kernel='rbf', max_iter=-1, shrinking=True, tol=0.001, verbose=False) is: 1.0278906851732623\n",
      "The testing RMSE for SVR(C=1.0, cache_size=200, coef0=0.0, degree=3, epsilon=0.1, gamma='scale',\n",
      "    kernel='rbf', max_iter=-1, shrinking=True, tol=0.001, verbose=False)\\ is: 1.0226318975536728\n"
     ]
    },
    {
     "data": {
      "text/plain": [
       "(1.0278906851732623, 1.0226318975536728)"
      ]
     },
     "execution_count": 41,
     "metadata": {},
     "output_type": "execute_result"
    }
   ],
   "source": [
    "support_vector_reg = SVR()\n",
    "support_vector_reg.fit(Z_train, y_train)\n",
    "\n",
    "rmse_score(support_vector_reg, Z_train, Z_test, y_train, y_test)"
   ]
  },
  {
   "cell_type": "code",
   "execution_count": 42,
   "metadata": {},
   "outputs": [
    {
     "data": {
      "text/plain": [
       "Pipeline(memory=None,\n",
       "         steps=[('mapper',\n",
       "                 DataFrameMapper(default=False, df_out=True,\n",
       "                                 features=[(['occupation'],\n",
       "                                            [LabelBinarizer(neg_label=0,\n",
       "                                                            pos_label=1,\n",
       "                                                            sparse_output=False)]),\n",
       "                                           (['gender'],\n",
       "                                            [LabelBinarizer(neg_label=0,\n",
       "                                                            pos_label=1,\n",
       "                                                            sparse_output=False)]),\n",
       "                                           (['fulltime_parttime'],\n",
       "                                            [LabelBinarizer(neg_label=0,\n",
       "                                                            pos_label=1,\n",
       "                                                            sparse_output=False)]),\n",
       "                                           (['age_group'],\n",
       "                                            [LabelBinarizer(neg_label=0,\n",
       "                                                            pos_label=1,\n",
       "                                                            sparse_output=False)])],\n",
       "                                 input_df=False, sparse=False)),\n",
       "                ('model',\n",
       "                 LinearRegression(copy_X=True, fit_intercept=True, n_jobs=None,\n",
       "                                  normalize=False))],\n",
       "         verbose=False)"
      ]
     },
     "execution_count": 42,
     "metadata": {},
     "output_type": "execute_result"
    }
   ],
   "source": [
    "pipe = Pipeline([(\"mapper\", mapper), (\"model\", model)])\n",
    "pipe.fit(X_train, y_train)"
   ]
  },
  {
   "cell_type": "code",
   "execution_count": 43,
   "metadata": {},
   "outputs": [],
   "source": [
    "employed_value = pipe.predict(X_test)"
   ]
  },
  {
   "cell_type": "code",
   "execution_count": 44,
   "metadata": {},
   "outputs": [],
   "source": [
    "employed_value = (np.round(employed_value, 1)).astype('int')"
   ]
  },
  {
   "cell_type": "code",
   "execution_count": 45,
   "metadata": {},
   "outputs": [
    {
     "data": {
      "text/plain": [
       "array([ 98,  27,  24, ..., -19, -21,  62])"
      ]
     },
     "execution_count": 45,
     "metadata": {},
     "output_type": "execute_result"
    }
   ],
   "source": [
    "employed_value"
   ]
  },
  {
   "cell_type": "code",
   "execution_count": 46,
   "metadata": {},
   "outputs": [
    {
     "data": {
      "text/plain": [
       "Pipeline(memory=None,\n",
       "         steps=[('mapper',\n",
       "                 DataFrameMapper(default=False, df_out=True,\n",
       "                                 features=[(['occupation'],\n",
       "                                            TransformerPipeline(steps=[('labelbinarizer',\n",
       "                                                                        LabelBinarizer(neg_label=0,\n",
       "                                                                                       pos_label=1,\n",
       "                                                                                       sparse_output=False))]),\n",
       "                                            {}),\n",
       "                                           (['gender'],\n",
       "                                            TransformerPipeline(steps=[('labelbinarizer',\n",
       "                                                                        LabelBinarizer(neg_label=0,\n",
       "                                                                                       pos_label=1,\n",
       "                                                                                       sparse_output=False))]),\n",
       "                                            {}),\n",
       "                                           (['fullt...\n",
       "                                            TransformerPipeline(steps=[('labelbinarizer',\n",
       "                                                                        LabelBinarizer(neg_label=0,\n",
       "                                                                                       pos_label=1,\n",
       "                                                                                       sparse_output=False))]),\n",
       "                                            {}),\n",
       "                                           (['age_group'],\n",
       "                                            TransformerPipeline(steps=[('labelbinarizer',\n",
       "                                                                        LabelBinarizer(neg_label=0,\n",
       "                                                                                       pos_label=1,\n",
       "                                                                                       sparse_output=False))]),\n",
       "                                            {})],\n",
       "                                 input_df=False, sparse=False)),\n",
       "                ('model',\n",
       "                 LinearRegression(copy_X=True, fit_intercept=True, n_jobs=None,\n",
       "                                  normalize=False))],\n",
       "         verbose=False)"
      ]
     },
     "execution_count": 46,
     "metadata": {},
     "output_type": "execute_result"
    }
   ],
   "source": [
    "pickle.dump(pipe, open('pipe.pkl', 'wb'))\n",
    "del pipe\n",
    "pipe = pickle.load(open('pipe.pkl', 'rb'))\n",
    "pipe"
   ]
  }
 ],
 "metadata": {
  "kernelspec": {
   "display_name": "Python 3",
   "language": "python",
   "name": "python3"
  },
  "language_info": {
   "codemirror_mode": {
    "name": "ipython",
    "version": 3
   },
   "file_extension": ".py",
   "mimetype": "text/x-python",
   "name": "python",
   "nbconvert_exporter": "python",
   "pygments_lexer": "ipython3",
   "version": "3.7.4"
  }
 },
 "nbformat": 4,
 "nbformat_minor": 2
}
