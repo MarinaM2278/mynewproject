{
 "cells": [
  {
   "cell_type": "code",
   "execution_count": 1,
   "metadata": {},
   "outputs": [],
   "source": [
    "import pandas as pd\n",
    "import seaborn as sns\n",
    "import numpy as np\n",
    "import glob, os\n",
    "\n",
    "from sklearn.model_selection import train_test_split, cross_val_score, GridSearchCV\n",
    "from sklearn import preprocessing\n",
    "\n",
    "from sklearn.impute import SimpleImputer\n",
    "\n",
    "from sklearn.linear_model import LinearRegression\n",
    "\n",
    "from sklearn_pandas import DataFrameMapper, CategoricalImputer\n",
    "from sklearn.preprocessing import LabelBinarizer, MultiLabelBinarizer,  StandardScaler, LabelEncoder\n",
    "\n",
    "import sklearn.decomposition, sklearn.linear_model, sklearn.pipeline, sklearn.metrics\n",
    "from sklearn.feature_extraction.text import CountVectorizer\n",
    "from sklearn.impute import SimpleImputer\n",
    "from sklearn.pipeline import Pipeline\n",
    "\n",
    "import pickle\n",
    "from sklearn.metrics import r2_score, accuracy_score, mean_squared_error\n",
    "\n",
    "from sklearn.metrics import classification_report\n",
    "\n",
    "from sklearn.neighbors import KNeighborsRegressor\n",
    "from sklearn.tree import DecisionTreeRegressor\n",
    "from sklearn.ensemble import BaggingRegressor, RandomForestRegressor, AdaBoostRegressor\n",
    "from sklearn.svm import SVR\n",
    "\n",
    "from sklearn.model_selection import train_test_split\n",
    "\n",
    "\n",
    "pd.set_option('display.max_rows', 100)\n",
    "#np.set.printoptions(prediction = 4)\n",
    "#pd.set_option('display.max_colwidth', -1)"
   ]
  },
  {
   "cell_type": "code",
   "execution_count": 2,
   "metadata": {},
   "outputs": [],
   "source": [
    "##Rename multiple csv files in a folder with Python\n",
    "def rename(dir, pathAndfilename, pattern, tittlePattern):\n",
    "    os.rename(pathAndfilename, os.path.join(dir, tittlePattern))\n"
   ]
  },
  {
   "cell_type": "code",
   "execution_count": 3,
   "metadata": {},
   "outputs": [],
   "source": [
    "##search for csv files in the working folderp\n",
    "path = os.path.expanduser('data/*.csv*')"
   ]
  },
  {
   "cell_type": "code",
   "execution_count": 4,
   "metadata": {},
   "outputs": [],
   "source": [
    "##iterate and rename them one by one with the number of the iteration\n",
    "try:\n",
    "    for i, fname in enumerate(glob.glob(path)):\n",
    "        rename(os.path.expanduser('data/'), fname, r'*csv', r'test{}.csv'.format(i))\n",
    "except:\n",
    "    pass"
   ]
  },
  {
   "cell_type": "code",
   "execution_count": 5,
   "metadata": {},
   "outputs": [],
   "source": [
    "result = pd.DataFrame()"
   ]
  },
  {
   "cell_type": "code",
   "execution_count": 6,
   "metadata": {},
   "outputs": [],
   "source": [
    "for  fname in  glob.glob(path):\n",
    "    head, tail = os.path.split(fname)\n",
    "    df = pd.read_csv(fname, sep = ',')\n",
    "    df3 = df.sort_values(by=['REF_DATE'], ascending = True).drop(['DGUID', 'SCALAR_ID'], axis =1)\n",
    "    df3['channel']= tail\n",
    "    result = pd.concat([result, df3])"
   ]
  },
  {
   "cell_type": "code",
   "execution_count": 7,
   "metadata": {},
   "outputs": [],
   "source": [
    "df1 = result.drop(['VECTOR', 'STATUS','COORDINATE','SYMBOL', 'TERMINATED', 'DECIMALS', 'channel'], axis = 1)"
   ]
  },
  {
   "cell_type": "code",
   "execution_count": 8,
   "metadata": {},
   "outputs": [],
   "source": [
    "df1 = df1[df1.GEO=='Canada']"
   ]
  },
  {
   "cell_type": "code",
   "execution_count": 9,
   "metadata": {},
   "outputs": [
    {
     "data": {
      "text/plain": [
       "REF_DATE                                      0    \n",
       "GEO                                           0    \n",
       "Wages                                         0    \n",
       "Type of work                                  0    \n",
       "National Occupational Classification (NOC)    0    \n",
       "Sex                                           0    \n",
       "Age group                                     0    \n",
       "UOM                                           0    \n",
       "VALUE                                         16990\n",
       "dtype: int64"
      ]
     },
     "execution_count": 9,
     "metadata": {},
     "output_type": "execute_result"
    }
   ],
   "source": [
    "df1.isnull().sum()"
   ]
  },
  {
   "cell_type": "code",
   "execution_count": 10,
   "metadata": {},
   "outputs": [],
   "source": [
    "df1 = df1[df1.Wages =='Total employees, all wages']"
   ]
  },
  {
   "cell_type": "code",
   "execution_count": 11,
   "metadata": {},
   "outputs": [],
   "source": [
    "df1 = df1[df1.UOM =='Persons']"
   ]
  },
  {
   "cell_type": "code",
   "execution_count": 12,
   "metadata": {},
   "outputs": [],
   "source": [
    "df1 = df1.drop(['REF_DATE','Wages','GEO', 'UOM', 'UOM_ID', 'SCALAR_FACTOR', 'SCALAR_ID'], axis = 1)"
   ]
  },
  {
   "cell_type": "code",
   "execution_count": 13,
   "metadata": {},
   "outputs": [],
   "source": [
    "df1 = df1.rename(columns={'Type of work': 'fulltime_parttime', 'National Occupational Classification (NOC)': 'occupation', 'Sex': 'gender', 'Age group': 'age_group', 'VALUE':'value'})"
   ]
  },
  {
   "cell_type": "code",
   "execution_count": 14,
   "metadata": {},
   "outputs": [],
   "source": [
    "df1 = df1[df1.fulltime_parttime != 'Both full- and part-time employees']"
   ]
  },
  {
   "cell_type": "code",
   "execution_count": 15,
   "metadata": {},
   "outputs": [],
   "source": [
    "df1 = df1[df1.gender !='Both sexes']"
   ]
  },
  {
   "cell_type": "code",
   "execution_count": 16,
   "metadata": {},
   "outputs": [],
   "source": [
    "df1 = df1[df1.occupation != 'Total employees, all occupations']"
   ]
  },
  {
   "cell_type": "code",
   "execution_count": 17,
   "metadata": {},
   "outputs": [],
   "source": [
    "df1 = df1[df1.age_group != '15 years and over']"
   ]
  },
  {
   "cell_type": "code",
   "execution_count": 18,
   "metadata": {},
   "outputs": [],
   "source": [
    "#df.fillna(df.mean(), inplace=True)\n",
    "\n",
    "df1['value'] = df1['value'].fillna((df1['value'].mean()))"
   ]
  },
  {
   "cell_type": "code",
   "execution_count": 19,
   "metadata": {},
   "outputs": [],
   "source": [
    "#df1['value']"
   ]
  },
  {
   "cell_type": "code",
   "execution_count": 20,
   "metadata": {},
   "outputs": [],
   "source": [
    "df1['gender'] = df1['gender'].apply({'Females': 1, 'Males': 0}.get)\n"
   ]
  },
  {
   "cell_type": "code",
   "execution_count": 21,
   "metadata": {},
   "outputs": [
    {
     "data": {
      "text/plain": [
       "1    6600\n",
       "0    6600\n",
       "Name: gender, dtype: int64"
      ]
     },
     "execution_count": 21,
     "metadata": {},
     "output_type": "execute_result"
    }
   ],
   "source": [
    "df1['gender'].value_counts()"
   ]
  },
  {
   "cell_type": "code",
   "execution_count": 22,
   "metadata": {},
   "outputs": [
    {
     "data": {
      "text/plain": [
       "<seaborn.axisgrid.FacetGrid at 0x23605a3f288>"
      ]
     },
     "execution_count": 22,
     "metadata": {},
     "output_type": "execute_result"
    },
    {
     "data": {
      "image/png": "[encoded data removed]",
      "text/plain": [
       "<Figure size 360x360 with 1 Axes>"
      ]
     },
     "metadata": {
      "needs_background": "light"
     },
     "output_type": "display_data"
    }
   ],
   "source": [
    "sns.lmplot(x='gender', y='value', data=df1)"
   ]
  },
  {
   "cell_type": "code",
   "execution_count": 23,
   "metadata": {},
   "outputs": [
    {
     "data": {
      "text/plain": [
       "0"
      ]
     },
     "execution_count": 23,
     "metadata": {},
     "output_type": "execute_result"
    }
   ],
   "source": [
    "df1['value'].isnull().sum()"
   ]
  },
  {
   "cell_type": "code",
   "execution_count": 24,
   "metadata": {},
   "outputs": [],
   "source": [
    "target = 'value'\n",
    "y = df1[target]\n",
    "X = df1.drop(target, axis = 1)"
   ]
  },
  {
   "cell_type": "code",
   "execution_count": 25,
   "metadata": {},
   "outputs": [
    {
     "name": "stdout",
     "output_type": "stream",
     "text": [
      "<class 'pandas.core.frame.DataFrame'>\n",
      "Int64Index: 13200 entries, 1043 to 5547\n",
      "Data columns (total 4 columns):\n",
      "fulltime_parttime    13200 non-null object\n",
      "occupation           13200 non-null object\n",
      "gender               13200 non-null int64\n",
      "age_group            13200 non-null object\n",
      "dtypes: int64(1), object(3)\n",
      "memory usage: 515.6+ KB\n"
     ]
    }
   ],
   "source": [
    "X.info()"
   ]
  },
  {
   "cell_type": "code",
   "execution_count": 26,
   "metadata": {},
   "outputs": [],
   "source": [
    "X_train, X_test, y_train, y_test = train_test_split(X,y, test_size = 0.3, random_state = 42)"
   ]
  },
  {
   "cell_type": "code",
   "execution_count": 27,
   "metadata": {},
   "outputs": [
    {
     "data": {
      "text/plain": [
       "20343    1.800000  \n",
       "5202     4.900000  \n",
       "12906    40.600000 \n",
       "702      123.900000\n",
       "10097    2.000000  \n",
       "           ...     \n",
       "3657     12.200000 \n",
       "12429    96.000000 \n",
       "12553    56.425595 \n",
       "18611    231.300000\n",
       "2090     68.400000 \n",
       "Name: value, Length: 9240, dtype: float64"
      ]
     },
     "execution_count": 27,
     "metadata": {},
     "output_type": "execute_result"
    }
   ],
   "source": [
    "y_train"
   ]
  },
  {
   "cell_type": "code",
   "execution_count": 28,
   "metadata": {},
   "outputs": [
    {
     "data": {
      "text/plain": [
       "20343    1.800000  \n",
       "5202     4.900000  \n",
       "12906    40.600000 \n",
       "702      123.900000\n",
       "10097    2.000000  \n",
       "           ...     \n",
       "3657     12.200000 \n",
       "12429    96.000000 \n",
       "12553    56.425595 \n",
       "18611    231.300000\n",
       "2090     68.400000 \n",
       "Name: value, Length: 9240, dtype: float64"
      ]
     },
     "execution_count": 28,
     "metadata": {},
     "output_type": "execute_result"
    }
   ],
   "source": [
    "y_train"
   ]
  },
  {
   "cell_type": "code",
   "execution_count": 29,
   "metadata": {},
   "outputs": [
    {
     "data": {
      "text/plain": [
       "LabelEncoder()"
      ]
     },
     "execution_count": 29,
     "metadata": {},
     "output_type": "execute_result"
    }
   ],
   "source": [
    "le = preprocessing.LabelEncoder()\n",
    "\n",
    "le.fit(X_train['occupation'])\n",
    "le.fit(X_test['occupation'])\n",
    "\n",
    "le.fit(X_train['fulltime_parttime'])\n",
    "le.fit(X_test['fulltime_parttime'])\n",
    "\n",
    "le.fit(X_train['age_group'])\n",
    "le.fit(X_test['age_group'])\n",
    "\n",
    "le.fit(X_train['gender'])\n",
    "le.fit(X_test['gender'])\n"
   ]
  },
  {
   "cell_type": "code",
   "execution_count": 30,
   "metadata": {},
   "outputs": [],
   "source": [
    "mapper = DataFrameMapper([\n",
    "    (['occupation'], [LabelBinarizer()]),\n",
    "    (['gender'], [LabelBinarizer()]),\n",
    "    (['fulltime_parttime'], [LabelBinarizer()]),\n",
    "    (['age_group'], [LabelBinarizer()])\n",
    "    ], df_out= True)"
   ]
  },
  {
   "cell_type": "code",
   "execution_count": 31,
   "metadata": {},
   "outputs": [
    {
     "data": {
      "text/plain": [
       "DataFrameMapper(default=False, df_out=True,\n",
       "                features=[(['occupation'],\n",
       "                           [LabelBinarizer(neg_label=0, pos_label=1,\n",
       "                                           sparse_output=False)]),\n",
       "                          (['gender'],\n",
       "                           [LabelBinarizer(neg_label=0, pos_label=1,\n",
       "                                           sparse_output=False)]),\n",
       "                          (['fulltime_parttime'],\n",
       "                           [LabelBinarizer(neg_label=0, pos_label=1,\n",
       "                                           sparse_output=False)]),\n",
       "                          (['age_group'],\n",
       "                           [LabelBinarizer(neg_label=0, pos_label=1,\n",
       "                                           sparse_output=False)])],\n",
       "                input_df=False, sparse=False)"
      ]
     },
     "execution_count": 31,
     "metadata": {},
     "output_type": "execute_result"
    }
   ],
   "source": [
    "mapper"
   ]
  },
  {
   "cell_type": "code",
   "execution_count": 32,
   "metadata": {},
   "outputs": [],
   "source": [
    "Z_train= mapper.fit(X_train)\n"
   ]
  },
  {
   "cell_type": "code",
   "execution_count": 33,
   "metadata": {},
   "outputs": [],
   "source": [
    "Z_train= mapper.transform(X_train)"
   ]
  },
  {
   "cell_type": "code",
   "execution_count": 34,
   "metadata": {},
   "outputs": [
    {
     "data": {
      "text/html": [
       "<div>\n",
       "<style scoped>\n",
       "    .dataframe tbody tr th:only-of-type {\n",
       "        vertical-align: middle;\n",
       "    }\n",
       "\n",
       "    .dataframe tbody tr th {\n",
       "        vertical-align: top;\n",
       "    }\n",
       "\n",
       "    .dataframe thead th {\n",
       "        text-align: right;\n",
       "    }\n",
       "</style>\n",
       "<table border=\"1\" class=\"dataframe\">\n",
       "  <thead>\n",
       "    <tr style=\"text-align: right;\">\n",
       "      <th></th>\n",
       "      <th>occupation_Administrative and financial supervisors and administrative occupations</th>\n",
       "      <th>occupation_Assemblers in manufacturing</th>\n",
       "      <th>occupation_Assisting occupations in support of health services</th>\n",
       "      <th>occupation_Business, finance and administration occupations</th>\n",
       "      <th>occupation_Care providers and educational, legal and public protection support occupations</th>\n",
       "      <th>occupation_Distribution, tracking and scheduling co-ordination occupations</th>\n",
       "      <th>occupation_Finance, insurance and related business administrative occupations</th>\n",
       "      <th>occupation_Harvesting, landscaping and natural resources labourers</th>\n",
       "      <th>occupation_Health occupations</th>\n",
       "      <th>occupation_Industrial, electrical and construction trades</th>\n",
       "      <th>...</th>\n",
       "      <th>occupation_Technical occupations related to natural and applied sciences</th>\n",
       "      <th>occupation_Trades helpers, construction labourers and related occupations</th>\n",
       "      <th>occupation_Trades, transport and equipment operators and related occupations</th>\n",
       "      <th>occupation_Transport and heavy equipment operation and related maintenance occupations</th>\n",
       "      <th>occupation_Workers in natural resources, agriculture and related production</th>\n",
       "      <th>gender</th>\n",
       "      <th>fulltime_parttime</th>\n",
       "      <th>age_group_15 to 24 years</th>\n",
       "      <th>age_group_25 to 54 years</th>\n",
       "      <th>age_group_55 years and over</th>\n",
       "    </tr>\n",
       "  </thead>\n",
       "  <tbody>\n",
       "    <tr>\n",
       "      <th>20343</th>\n",
       "      <td>0</td>\n",
       "      <td>0</td>\n",
       "      <td>0</td>\n",
       "      <td>0</td>\n",
       "      <td>0</td>\n",
       "      <td>0</td>\n",
       "      <td>0</td>\n",
       "      <td>0</td>\n",
       "      <td>0</td>\n",
       "      <td>0</td>\n",
       "      <td>...</td>\n",
       "      <td>0</td>\n",
       "      <td>1</td>\n",
       "      <td>0</td>\n",
       "      <td>0</td>\n",
       "      <td>0</td>\n",
       "      <td>0</td>\n",
       "      <td>1</td>\n",
       "      <td>0</td>\n",
       "      <td>0</td>\n",
       "      <td>1</td>\n",
       "    </tr>\n",
       "    <tr>\n",
       "      <th>5202</th>\n",
       "      <td>0</td>\n",
       "      <td>0</td>\n",
       "      <td>0</td>\n",
       "      <td>0</td>\n",
       "      <td>0</td>\n",
       "      <td>0</td>\n",
       "      <td>0</td>\n",
       "      <td>0</td>\n",
       "      <td>0</td>\n",
       "      <td>0</td>\n",
       "      <td>...</td>\n",
       "      <td>0</td>\n",
       "      <td>0</td>\n",
       "      <td>0</td>\n",
       "      <td>0</td>\n",
       "      <td>0</td>\n",
       "      <td>1</td>\n",
       "      <td>1</td>\n",
       "      <td>0</td>\n",
       "      <td>1</td>\n",
       "      <td>0</td>\n",
       "    </tr>\n",
       "    <tr>\n",
       "      <th>12906</th>\n",
       "      <td>0</td>\n",
       "      <td>0</td>\n",
       "      <td>0</td>\n",
       "      <td>0</td>\n",
       "      <td>0</td>\n",
       "      <td>0</td>\n",
       "      <td>0</td>\n",
       "      <td>0</td>\n",
       "      <td>0</td>\n",
       "      <td>0</td>\n",
       "      <td>...</td>\n",
       "      <td>0</td>\n",
       "      <td>0</td>\n",
       "      <td>0</td>\n",
       "      <td>0</td>\n",
       "      <td>1</td>\n",
       "      <td>0</td>\n",
       "      <td>0</td>\n",
       "      <td>0</td>\n",
       "      <td>1</td>\n",
       "      <td>0</td>\n",
       "    </tr>\n",
       "    <tr>\n",
       "      <th>702</th>\n",
       "      <td>0</td>\n",
       "      <td>0</td>\n",
       "      <td>0</td>\n",
       "      <td>0</td>\n",
       "      <td>0</td>\n",
       "      <td>0</td>\n",
       "      <td>0</td>\n",
       "      <td>0</td>\n",
       "      <td>0</td>\n",
       "      <td>0</td>\n",
       "      <td>...</td>\n",
       "      <td>0</td>\n",
       "      <td>0</td>\n",
       "      <td>0</td>\n",
       "      <td>0</td>\n",
       "      <td>0</td>\n",
       "      <td>0</td>\n",
       "      <td>0</td>\n",
       "      <td>0</td>\n",
       "      <td>1</td>\n",
       "      <td>0</td>\n",
       "    </tr>\n",
       "    <tr>\n",
       "      <th>10097</th>\n",
       "      <td>0</td>\n",
       "      <td>0</td>\n",
       "      <td>0</td>\n",
       "      <td>0</td>\n",
       "      <td>0</td>\n",
       "      <td>0</td>\n",
       "      <td>0</td>\n",
       "      <td>0</td>\n",
       "      <td>0</td>\n",
       "      <td>0</td>\n",
       "      <td>...</td>\n",
       "      <td>0</td>\n",
       "      <td>0</td>\n",
       "      <td>0</td>\n",
       "      <td>0</td>\n",
       "      <td>0</td>\n",
       "      <td>0</td>\n",
       "      <td>1</td>\n",
       "      <td>1</td>\n",
       "      <td>0</td>\n",
       "      <td>0</td>\n",
       "    </tr>\n",
       "    <tr>\n",
       "      <th>...</th>\n",
       "      <td>...</td>\n",
       "      <td>...</td>\n",
       "      <td>...</td>\n",
       "      <td>...</td>\n",
       "      <td>...</td>\n",
       "      <td>...</td>\n",
       "      <td>...</td>\n",
       "      <td>...</td>\n",
       "      <td>...</td>\n",
       "      <td>...</td>\n",
       "      <td>...</td>\n",
       "      <td>...</td>\n",
       "      <td>...</td>\n",
       "      <td>...</td>\n",
       "      <td>...</td>\n",
       "      <td>...</td>\n",
       "      <td>...</td>\n",
       "      <td>...</td>\n",
       "      <td>...</td>\n",
       "      <td>...</td>\n",
       "      <td>...</td>\n",
       "    </tr>\n",
       "    <tr>\n",
       "      <th>3657</th>\n",
       "      <td>0</td>\n",
       "      <td>0</td>\n",
       "      <td>0</td>\n",
       "      <td>0</td>\n",
       "      <td>0</td>\n",
       "      <td>0</td>\n",
       "      <td>0</td>\n",
       "      <td>0</td>\n",
       "      <td>0</td>\n",
       "      <td>0</td>\n",
       "      <td>...</td>\n",
       "      <td>0</td>\n",
       "      <td>0</td>\n",
       "      <td>0</td>\n",
       "      <td>0</td>\n",
       "      <td>0</td>\n",
       "      <td>0</td>\n",
       "      <td>1</td>\n",
       "      <td>1</td>\n",
       "      <td>0</td>\n",
       "      <td>0</td>\n",
       "    </tr>\n",
       "    <tr>\n",
       "      <th>12429</th>\n",
       "      <td>0</td>\n",
       "      <td>0</td>\n",
       "      <td>0</td>\n",
       "      <td>0</td>\n",
       "      <td>0</td>\n",
       "      <td>0</td>\n",
       "      <td>0</td>\n",
       "      <td>0</td>\n",
       "      <td>0</td>\n",
       "      <td>0</td>\n",
       "      <td>...</td>\n",
       "      <td>0</td>\n",
       "      <td>0</td>\n",
       "      <td>0</td>\n",
       "      <td>0</td>\n",
       "      <td>0</td>\n",
       "      <td>0</td>\n",
       "      <td>1</td>\n",
       "      <td>1</td>\n",
       "      <td>0</td>\n",
       "      <td>0</td>\n",
       "    </tr>\n",
       "    <tr>\n",
       "      <th>12553</th>\n",
       "      <td>0</td>\n",
       "      <td>0</td>\n",
       "      <td>0</td>\n",
       "      <td>0</td>\n",
       "      <td>0</td>\n",
       "      <td>0</td>\n",
       "      <td>0</td>\n",
       "      <td>1</td>\n",
       "      <td>0</td>\n",
       "      <td>0</td>\n",
       "      <td>...</td>\n",
       "      <td>0</td>\n",
       "      <td>0</td>\n",
       "      <td>0</td>\n",
       "      <td>0</td>\n",
       "      <td>0</td>\n",
       "      <td>1</td>\n",
       "      <td>1</td>\n",
       "      <td>1</td>\n",
       "      <td>0</td>\n",
       "      <td>0</td>\n",
       "    </tr>\n",
       "    <tr>\n",
       "      <th>18611</th>\n",
       "      <td>0</td>\n",
       "      <td>0</td>\n",
       "      <td>0</td>\n",
       "      <td>0</td>\n",
       "      <td>0</td>\n",
       "      <td>0</td>\n",
       "      <td>0</td>\n",
       "      <td>0</td>\n",
       "      <td>0</td>\n",
       "      <td>0</td>\n",
       "      <td>...</td>\n",
       "      <td>0</td>\n",
       "      <td>0</td>\n",
       "      <td>0</td>\n",
       "      <td>0</td>\n",
       "      <td>0</td>\n",
       "      <td>1</td>\n",
       "      <td>0</td>\n",
       "      <td>0</td>\n",
       "      <td>0</td>\n",
       "      <td>1</td>\n",
       "    </tr>\n",
       "    <tr>\n",
       "      <th>2090</th>\n",
       "      <td>0</td>\n",
       "      <td>0</td>\n",
       "      <td>0</td>\n",
       "      <td>0</td>\n",
       "      <td>0</td>\n",
       "      <td>0</td>\n",
       "      <td>0</td>\n",
       "      <td>0</td>\n",
       "      <td>0</td>\n",
       "      <td>0</td>\n",
       "      <td>...</td>\n",
       "      <td>0</td>\n",
       "      <td>1</td>\n",
       "      <td>0</td>\n",
       "      <td>0</td>\n",
       "      <td>0</td>\n",
       "      <td>0</td>\n",
       "      <td>0</td>\n",
       "      <td>0</td>\n",
       "      <td>1</td>\n",
       "      <td>0</td>\n",
       "    </tr>\n",
       "  </tbody>\n",
       "</table>\n",
       "<p>9240 rows × 55 columns</p>\n",
       "</div>"
      ],
      "text/plain": [
       "       occupation_Administrative and financial supervisors and administrative occupations  \\\n",
       "20343  0                                                                                    \n",
       "5202   0                                                                                    \n",
       "12906  0                                                                                    \n",
       "702    0                                                                                    \n",
       "10097  0                                                                                    \n",
       "...   ..                                                                                    \n",
       "3657   0                                                                                    \n",
       "12429  0                                                                                    \n",
       "12553  0                                                                                    \n",
       "18611  0                                                                                    \n",
       "2090   0                                                                                    \n",
       "\n",
       "       occupation_Assemblers in manufacturing  \\\n",
       "20343  0                                        \n",
       "5202   0                                        \n",
       "12906  0                                        \n",
       "702    0                                        \n",
       "10097  0                                        \n",
       "...   ..                                        \n",
       "3657   0                                        \n",
       "12429  0                                        \n",
       "12553  0                                        \n",
       "18611  0                                        \n",
       "2090   0                                        \n",
       "\n",
       "       occupation_Assisting occupations in support of health services  \\\n",
       "20343  0                                                                \n",
       "5202   0                                                                \n",
       "12906  0                                                                \n",
       "702    0                                                                \n",
       "10097  0                                                                \n",
       "...   ..                                                                \n",
       "3657   0                                                                \n",
       "12429  0                                                                \n",
       "12553  0                                                                \n",
       "18611  0                                                                \n",
       "2090   0                                                                \n",
       "\n",
       "       occupation_Business, finance and administration occupations  \\\n",
       "20343  0                                                             \n",
       "5202   0                                                             \n",
       "12906  0                                                             \n",
       "702    0                                                             \n",
       "10097  0                                                             \n",
       "...   ..                                                             \n",
       "3657   0                                                             \n",
       "12429  0                                                             \n",
       "12553  0                                                             \n",
       "18611  0                                                             \n",
       "2090   0                                                             \n",
       "\n",
       "       occupation_Care providers and educational, legal and public protection support occupations  \\\n",
       "20343  0                                                                                            \n",
       "5202   0                                                                                            \n",
       "12906  0                                                                                            \n",
       "702    0                                                                                            \n",
       "10097  0                                                                                            \n",
       "...   ..                                                                                            \n",
       "3657   0                                                                                            \n",
       "12429  0                                                                                            \n",
       "12553  0                                                                                            \n",
       "18611  0                                                                                            \n",
       "2090   0                                                                                            \n",
       "\n",
       "       occupation_Distribution, tracking and scheduling co-ordination occupations  \\\n",
       "20343  0                                                                            \n",
       "5202   0                                                                            \n",
       "12906  0                                                                            \n",
       "702    0                                                                            \n",
       "10097  0                                                                            \n",
       "...   ..                                                                            \n",
       "3657   0                                                                            \n",
       "12429  0                                                                            \n",
       "12553  0                                                                            \n",
       "18611  0                                                                            \n",
       "2090   0                                                                            \n",
       "\n",
       "       occupation_Finance, insurance and related business administrative occupations  \\\n",
       "20343  0                                                                               \n",
       "5202   0                                                                               \n",
       "12906  0                                                                               \n",
       "702    0                                                                               \n",
       "10097  0                                                                               \n",
       "...   ..                                                                               \n",
       "3657   0                                                                               \n",
       "12429  0                                                                               \n",
       "12553  0                                                                               \n",
       "18611  0                                                                               \n",
       "2090   0                                                                               \n",
       "\n",
       "       occupation_Harvesting, landscaping and natural resources labourers  \\\n",
       "20343  0                                                                    \n",
       "5202   0                                                                    \n",
       "12906  0                                                                    \n",
       "702    0                                                                    \n",
       "10097  0                                                                    \n",
       "...   ..                                                                    \n",
       "3657   0                                                                    \n",
       "12429  0                                                                    \n",
       "12553  1                                                                    \n",
       "18611  0                                                                    \n",
       "2090   0                                                                    \n",
       "\n",
       "       occupation_Health occupations  \\\n",
       "20343  0                               \n",
       "5202   0                               \n",
       "12906  0                               \n",
       "702    0                               \n",
       "10097  0                               \n",
       "...   ..                               \n",
       "3657   0                               \n",
       "12429  0                               \n",
       "12553  0                               \n",
       "18611  0                               \n",
       "2090   0                               \n",
       "\n",
       "       occupation_Industrial, electrical and construction trades  ...  \\\n",
       "20343  0                                                          ...   \n",
       "5202   0                                                          ...   \n",
       "12906  0                                                          ...   \n",
       "702    0                                                          ...   \n",
       "10097  0                                                          ...   \n",
       "...   ..                                                          ...   \n",
       "3657   0                                                          ...   \n",
       "12429  0                                                          ...   \n",
       "12553  0                                                          ...   \n",
       "18611  0                                                          ...   \n",
       "2090   0                                                          ...   \n",
       "\n",
       "       occupation_Technical occupations related to natural and applied sciences  \\\n",
       "20343  0                                                                          \n",
       "5202   0                                                                          \n",
       "12906  0                                                                          \n",
       "702    0                                                                          \n",
       "10097  0                                                                          \n",
       "...   ..                                                                          \n",
       "3657   0                                                                          \n",
       "12429  0                                                                          \n",
       "12553  0                                                                          \n",
       "18611  0                                                                          \n",
       "2090   0                                                                          \n",
       "\n",
       "       occupation_Trades helpers, construction labourers and related occupations  \\\n",
       "20343  1                                                                           \n",
       "5202   0                                                                           \n",
       "12906  0                                                                           \n",
       "702    0                                                                           \n",
       "10097  0                                                                           \n",
       "...   ..                                                                           \n",
       "3657   0                                                                           \n",
       "12429  0                                                                           \n",
       "12553  0                                                                           \n",
       "18611  0                                                                           \n",
       "2090   1                                                                           \n",
       "\n",
       "       occupation_Trades, transport and equipment operators and related occupations  \\\n",
       "20343  0                                                                              \n",
       "5202   0                                                                              \n",
       "12906  0                                                                              \n",
       "702    0                                                                              \n",
       "10097  0                                                                              \n",
       "...   ..                                                                              \n",
       "3657   0                                                                              \n",
       "12429  0                                                                              \n",
       "12553  0                                                                              \n",
       "18611  0                                                                              \n",
       "2090   0                                                                              \n",
       "\n",
       "       occupation_Transport and heavy equipment operation and related maintenance occupations  \\\n",
       "20343  0                                                                                        \n",
       "5202   0                                                                                        \n",
       "12906  0                                                                                        \n",
       "702    0                                                                                        \n",
       "10097  0                                                                                        \n",
       "...   ..                                                                                        \n",
       "3657   0                                                                                        \n",
       "12429  0                                                                                        \n",
       "12553  0                                                                                        \n",
       "18611  0                                                                                        \n",
       "2090   0                                                                                        \n",
       "\n",
       "       occupation_Workers in natural resources, agriculture and related production  \\\n",
       "20343  0                                                                             \n",
       "5202   0                                                                             \n",
       "12906  1                                                                             \n",
       "702    0                                                                             \n",
       "10097  0                                                                             \n",
       "...   ..                                                                             \n",
       "3657   0                                                                             \n",
       "12429  0                                                                             \n",
       "12553  0                                                                             \n",
       "18611  0                                                                             \n",
       "2090   0                                                                             \n",
       "\n",
       "       gender  fulltime_parttime  age_group_15 to 24 years  \\\n",
       "20343  0       1                  0                          \n",
       "5202   1       1                  0                          \n",
       "12906  0       0                  0                          \n",
       "702    0       0                  0                          \n",
       "10097  0       1                  1                          \n",
       "...   ..      ..                 ..                          \n",
       "3657   0       1                  1                          \n",
       "12429  0       1                  1                          \n",
       "12553  1       1                  1                          \n",
       "18611  1       0                  0                          \n",
       "2090   0       0                  0                          \n",
       "\n",
       "       age_group_25 to 54 years  age_group_55 years and over  \n",
       "20343  0                         1                            \n",
       "5202   1                         0                            \n",
       "12906  1                         0                            \n",
       "702    1                         0                            \n",
       "10097  0                         0                            \n",
       "...   ..                        ..                            \n",
       "3657   0                         0                            \n",
       "12429  0                         0                            \n",
       "12553  0                         0                            \n",
       "18611  0                         1                            \n",
       "2090   1                         0                            \n",
       "\n",
       "[9240 rows x 55 columns]"
      ]
     },
     "execution_count": 34,
     "metadata": {},
     "output_type": "execute_result"
    }
   ],
   "source": [
    "Z_train"
   ]
  },
  {
   "cell_type": "code",
   "execution_count": 35,
   "metadata": {},
   "outputs": [],
   "source": [
    "Z_test = mapper.transform(X_test)"
   ]
  },
  {
   "cell_type": "code",
   "execution_count": 36,
   "metadata": {},
   "outputs": [
    {
     "data": {
      "text/html": [
       "<div>\n",
       "<style scoped>\n",
       "    .dataframe tbody tr th:only-of-type {\n",
       "        vertical-align: middle;\n",
       "    }\n",
       "\n",
       "    .dataframe tbody tr th {\n",
       "        vertical-align: top;\n",
       "    }\n",
       "\n",
       "    .dataframe thead th {\n",
       "        text-align: right;\n",
       "    }\n",
       "</style>\n",
       "<table border=\"1\" class=\"dataframe\">\n",
       "  <thead>\n",
       "    <tr style=\"text-align: right;\">\n",
       "      <th></th>\n",
       "      <th>occupation_Administrative and financial supervisors and administrative occupations</th>\n",
       "      <th>occupation_Assemblers in manufacturing</th>\n",
       "      <th>occupation_Assisting occupations in support of health services</th>\n",
       "      <th>occupation_Business, finance and administration occupations</th>\n",
       "      <th>occupation_Care providers and educational, legal and public protection support occupations</th>\n",
       "      <th>occupation_Distribution, tracking and scheduling co-ordination occupations</th>\n",
       "      <th>occupation_Finance, insurance and related business administrative occupations</th>\n",
       "      <th>occupation_Harvesting, landscaping and natural resources labourers</th>\n",
       "      <th>occupation_Health occupations</th>\n",
       "      <th>occupation_Industrial, electrical and construction trades</th>\n",
       "      <th>...</th>\n",
       "      <th>occupation_Technical occupations related to natural and applied sciences</th>\n",
       "      <th>occupation_Trades helpers, construction labourers and related occupations</th>\n",
       "      <th>occupation_Trades, transport and equipment operators and related occupations</th>\n",
       "      <th>occupation_Transport and heavy equipment operation and related maintenance occupations</th>\n",
       "      <th>occupation_Workers in natural resources, agriculture and related production</th>\n",
       "      <th>gender</th>\n",
       "      <th>fulltime_parttime</th>\n",
       "      <th>age_group_15 to 24 years</th>\n",
       "      <th>age_group_25 to 54 years</th>\n",
       "      <th>age_group_55 years and over</th>\n",
       "    </tr>\n",
       "  </thead>\n",
       "  <tbody>\n",
       "    <tr>\n",
       "      <th>9347</th>\n",
       "      <td>0</td>\n",
       "      <td>0</td>\n",
       "      <td>0</td>\n",
       "      <td>0</td>\n",
       "      <td>0</td>\n",
       "      <td>0</td>\n",
       "      <td>0</td>\n",
       "      <td>0</td>\n",
       "      <td>0</td>\n",
       "      <td>0</td>\n",
       "      <td>...</td>\n",
       "      <td>0</td>\n",
       "      <td>0</td>\n",
       "      <td>0</td>\n",
       "      <td>0</td>\n",
       "      <td>0</td>\n",
       "      <td>0</td>\n",
       "      <td>1</td>\n",
       "      <td>0</td>\n",
       "      <td>0</td>\n",
       "      <td>1</td>\n",
       "    </tr>\n",
       "    <tr>\n",
       "      <th>20893</th>\n",
       "      <td>0</td>\n",
       "      <td>0</td>\n",
       "      <td>0</td>\n",
       "      <td>0</td>\n",
       "      <td>0</td>\n",
       "      <td>0</td>\n",
       "      <td>0</td>\n",
       "      <td>0</td>\n",
       "      <td>0</td>\n",
       "      <td>0</td>\n",
       "      <td>...</td>\n",
       "      <td>0</td>\n",
       "      <td>0</td>\n",
       "      <td>0</td>\n",
       "      <td>0</td>\n",
       "      <td>0</td>\n",
       "      <td>1</td>\n",
       "      <td>1</td>\n",
       "      <td>1</td>\n",
       "      <td>0</td>\n",
       "      <td>0</td>\n",
       "    </tr>\n",
       "    <tr>\n",
       "      <th>1862</th>\n",
       "      <td>0</td>\n",
       "      <td>0</td>\n",
       "      <td>0</td>\n",
       "      <td>0</td>\n",
       "      <td>0</td>\n",
       "      <td>0</td>\n",
       "      <td>0</td>\n",
       "      <td>0</td>\n",
       "      <td>0</td>\n",
       "      <td>0</td>\n",
       "      <td>...</td>\n",
       "      <td>0</td>\n",
       "      <td>0</td>\n",
       "      <td>0</td>\n",
       "      <td>0</td>\n",
       "      <td>0</td>\n",
       "      <td>0</td>\n",
       "      <td>0</td>\n",
       "      <td>0</td>\n",
       "      <td>1</td>\n",
       "      <td>0</td>\n",
       "    </tr>\n",
       "    <tr>\n",
       "      <th>2605</th>\n",
       "      <td>0</td>\n",
       "      <td>0</td>\n",
       "      <td>0</td>\n",
       "      <td>0</td>\n",
       "      <td>0</td>\n",
       "      <td>0</td>\n",
       "      <td>0</td>\n",
       "      <td>0</td>\n",
       "      <td>0</td>\n",
       "      <td>0</td>\n",
       "      <td>...</td>\n",
       "      <td>0</td>\n",
       "      <td>0</td>\n",
       "      <td>0</td>\n",
       "      <td>0</td>\n",
       "      <td>0</td>\n",
       "      <td>1</td>\n",
       "      <td>0</td>\n",
       "      <td>1</td>\n",
       "      <td>0</td>\n",
       "      <td>0</td>\n",
       "    </tr>\n",
       "    <tr>\n",
       "      <th>4302</th>\n",
       "      <td>0</td>\n",
       "      <td>0</td>\n",
       "      <td>0</td>\n",
       "      <td>0</td>\n",
       "      <td>0</td>\n",
       "      <td>1</td>\n",
       "      <td>0</td>\n",
       "      <td>0</td>\n",
       "      <td>0</td>\n",
       "      <td>0</td>\n",
       "      <td>...</td>\n",
       "      <td>0</td>\n",
       "      <td>0</td>\n",
       "      <td>0</td>\n",
       "      <td>0</td>\n",
       "      <td>0</td>\n",
       "      <td>0</td>\n",
       "      <td>1</td>\n",
       "      <td>0</td>\n",
       "      <td>1</td>\n",
       "      <td>0</td>\n",
       "    </tr>\n",
       "    <tr>\n",
       "      <th>...</th>\n",
       "      <td>...</td>\n",
       "      <td>...</td>\n",
       "      <td>...</td>\n",
       "      <td>...</td>\n",
       "      <td>...</td>\n",
       "      <td>...</td>\n",
       "      <td>...</td>\n",
       "      <td>...</td>\n",
       "      <td>...</td>\n",
       "      <td>...</td>\n",
       "      <td>...</td>\n",
       "      <td>...</td>\n",
       "      <td>...</td>\n",
       "      <td>...</td>\n",
       "      <td>...</td>\n",
       "      <td>...</td>\n",
       "      <td>...</td>\n",
       "      <td>...</td>\n",
       "      <td>...</td>\n",
       "      <td>...</td>\n",
       "      <td>...</td>\n",
       "    </tr>\n",
       "    <tr>\n",
       "      <th>15995</th>\n",
       "      <td>0</td>\n",
       "      <td>0</td>\n",
       "      <td>0</td>\n",
       "      <td>0</td>\n",
       "      <td>0</td>\n",
       "      <td>0</td>\n",
       "      <td>0</td>\n",
       "      <td>0</td>\n",
       "      <td>0</td>\n",
       "      <td>0</td>\n",
       "      <td>...</td>\n",
       "      <td>0</td>\n",
       "      <td>0</td>\n",
       "      <td>0</td>\n",
       "      <td>0</td>\n",
       "      <td>0</td>\n",
       "      <td>1</td>\n",
       "      <td>1</td>\n",
       "      <td>0</td>\n",
       "      <td>0</td>\n",
       "      <td>1</td>\n",
       "    </tr>\n",
       "    <tr>\n",
       "      <th>8034</th>\n",
       "      <td>0</td>\n",
       "      <td>0</td>\n",
       "      <td>0</td>\n",
       "      <td>0</td>\n",
       "      <td>0</td>\n",
       "      <td>0</td>\n",
       "      <td>0</td>\n",
       "      <td>0</td>\n",
       "      <td>0</td>\n",
       "      <td>0</td>\n",
       "      <td>...</td>\n",
       "      <td>0</td>\n",
       "      <td>0</td>\n",
       "      <td>0</td>\n",
       "      <td>0</td>\n",
       "      <td>0</td>\n",
       "      <td>1</td>\n",
       "      <td>0</td>\n",
       "      <td>0</td>\n",
       "      <td>1</td>\n",
       "      <td>0</td>\n",
       "    </tr>\n",
       "    <tr>\n",
       "      <th>14173</th>\n",
       "      <td>0</td>\n",
       "      <td>0</td>\n",
       "      <td>0</td>\n",
       "      <td>0</td>\n",
       "      <td>0</td>\n",
       "      <td>0</td>\n",
       "      <td>0</td>\n",
       "      <td>0</td>\n",
       "      <td>0</td>\n",
       "      <td>0</td>\n",
       "      <td>...</td>\n",
       "      <td>0</td>\n",
       "      <td>0</td>\n",
       "      <td>0</td>\n",
       "      <td>0</td>\n",
       "      <td>0</td>\n",
       "      <td>0</td>\n",
       "      <td>1</td>\n",
       "      <td>1</td>\n",
       "      <td>0</td>\n",
       "      <td>0</td>\n",
       "    </tr>\n",
       "    <tr>\n",
       "      <th>10362</th>\n",
       "      <td>0</td>\n",
       "      <td>0</td>\n",
       "      <td>0</td>\n",
       "      <td>0</td>\n",
       "      <td>0</td>\n",
       "      <td>0</td>\n",
       "      <td>0</td>\n",
       "      <td>0</td>\n",
       "      <td>0</td>\n",
       "      <td>0</td>\n",
       "      <td>...</td>\n",
       "      <td>0</td>\n",
       "      <td>0</td>\n",
       "      <td>0</td>\n",
       "      <td>0</td>\n",
       "      <td>0</td>\n",
       "      <td>0</td>\n",
       "      <td>1</td>\n",
       "      <td>0</td>\n",
       "      <td>1</td>\n",
       "      <td>0</td>\n",
       "    </tr>\n",
       "    <tr>\n",
       "      <th>19723</th>\n",
       "      <td>0</td>\n",
       "      <td>0</td>\n",
       "      <td>0</td>\n",
       "      <td>0</td>\n",
       "      <td>0</td>\n",
       "      <td>0</td>\n",
       "      <td>0</td>\n",
       "      <td>0</td>\n",
       "      <td>0</td>\n",
       "      <td>0</td>\n",
       "      <td>...</td>\n",
       "      <td>0</td>\n",
       "      <td>0</td>\n",
       "      <td>0</td>\n",
       "      <td>1</td>\n",
       "      <td>0</td>\n",
       "      <td>1</td>\n",
       "      <td>0</td>\n",
       "      <td>0</td>\n",
       "      <td>0</td>\n",
       "      <td>1</td>\n",
       "    </tr>\n",
       "  </tbody>\n",
       "</table>\n",
       "<p>3960 rows × 55 columns</p>\n",
       "</div>"
      ],
      "text/plain": [
       "       occupation_Administrative and financial supervisors and administrative occupations  \\\n",
       "9347   0                                                                                    \n",
       "20893  0                                                                                    \n",
       "1862   0                                                                                    \n",
       "2605   0                                                                                    \n",
       "4302   0                                                                                    \n",
       "...   ..                                                                                    \n",
       "15995  0                                                                                    \n",
       "8034   0                                                                                    \n",
       "14173  0                                                                                    \n",
       "10362  0                                                                                    \n",
       "19723  0                                                                                    \n",
       "\n",
       "       occupation_Assemblers in manufacturing  \\\n",
       "9347   0                                        \n",
       "20893  0                                        \n",
       "1862   0                                        \n",
       "2605   0                                        \n",
       "4302   0                                        \n",
       "...   ..                                        \n",
       "15995  0                                        \n",
       "8034   0                                        \n",
       "14173  0                                        \n",
       "10362  0                                        \n",
       "19723  0                                        \n",
       "\n",
       "       occupation_Assisting occupations in support of health services  \\\n",
       "9347   0                                                                \n",
       "20893  0                                                                \n",
       "1862   0                                                                \n",
       "2605   0                                                                \n",
       "4302   0                                                                \n",
       "...   ..                                                                \n",
       "15995  0                                                                \n",
       "8034   0                                                                \n",
       "14173  0                                                                \n",
       "10362  0                                                                \n",
       "19723  0                                                                \n",
       "\n",
       "       occupation_Business, finance and administration occupations  \\\n",
       "9347   0                                                             \n",
       "20893  0                                                             \n",
       "1862   0                                                             \n",
       "2605   0                                                             \n",
       "4302   0                                                             \n",
       "...   ..                                                             \n",
       "15995  0                                                             \n",
       "8034   0                                                             \n",
       "14173  0                                                             \n",
       "10362  0                                                             \n",
       "19723  0                                                             \n",
       "\n",
       "       occupation_Care providers and educational, legal and public protection support occupations  \\\n",
       "9347   0                                                                                            \n",
       "20893  0                                                                                            \n",
       "1862   0                                                                                            \n",
       "2605   0                                                                                            \n",
       "4302   0                                                                                            \n",
       "...   ..                                                                                            \n",
       "15995  0                                                                                            \n",
       "8034   0                                                                                            \n",
       "14173  0                                                                                            \n",
       "10362  0                                                                                            \n",
       "19723  0                                                                                            \n",
       "\n",
       "       occupation_Distribution, tracking and scheduling co-ordination occupations  \\\n",
       "9347   0                                                                            \n",
       "20893  0                                                                            \n",
       "1862   0                                                                            \n",
       "2605   0                                                                            \n",
       "4302   1                                                                            \n",
       "...   ..                                                                            \n",
       "15995  0                                                                            \n",
       "8034   0                                                                            \n",
       "14173  0                                                                            \n",
       "10362  0                                                                            \n",
       "19723  0                                                                            \n",
       "\n",
       "       occupation_Finance, insurance and related business administrative occupations  \\\n",
       "9347   0                                                                               \n",
       "20893  0                                                                               \n",
       "1862   0                                                                               \n",
       "2605   0                                                                               \n",
       "4302   0                                                                               \n",
       "...   ..                                                                               \n",
       "15995  0                                                                               \n",
       "8034   0                                                                               \n",
       "14173  0                                                                               \n",
       "10362  0                                                                               \n",
       "19723  0                                                                               \n",
       "\n",
       "       occupation_Harvesting, landscaping and natural resources labourers  \\\n",
       "9347   0                                                                    \n",
       "20893  0                                                                    \n",
       "1862   0                                                                    \n",
       "2605   0                                                                    \n",
       "4302   0                                                                    \n",
       "...   ..                                                                    \n",
       "15995  0                                                                    \n",
       "8034   0                                                                    \n",
       "14173  0                                                                    \n",
       "10362  0                                                                    \n",
       "19723  0                                                                    \n",
       "\n",
       "       occupation_Health occupations  \\\n",
       "9347   0                               \n",
       "20893  0                               \n",
       "1862   0                               \n",
       "2605   0                               \n",
       "4302   0                               \n",
       "...   ..                               \n",
       "15995  0                               \n",
       "8034   0                               \n",
       "14173  0                               \n",
       "10362  0                               \n",
       "19723  0                               \n",
       "\n",
       "       occupation_Industrial, electrical and construction trades  ...  \\\n",
       "9347   0                                                          ...   \n",
       "20893  0                                                          ...   \n",
       "1862   0                                                          ...   \n",
       "2605   0                                                          ...   \n",
       "4302   0                                                          ...   \n",
       "...   ..                                                          ...   \n",
       "15995  0                                                          ...   \n",
       "8034   0                                                          ...   \n",
       "14173  0                                                          ...   \n",
       "10362  0                                                          ...   \n",
       "19723  0                                                          ...   \n",
       "\n",
       "       occupation_Technical occupations related to natural and applied sciences  \\\n",
       "9347   0                                                                          \n",
       "20893  0                                                                          \n",
       "1862   0                                                                          \n",
       "2605   0                                                                          \n",
       "4302   0                                                                          \n",
       "...   ..                                                                          \n",
       "15995  0                                                                          \n",
       "8034   0                                                                          \n",
       "14173  0                                                                          \n",
       "10362  0                                                                          \n",
       "19723  0                                                                          \n",
       "\n",
       "       occupation_Trades helpers, construction labourers and related occupations  \\\n",
       "9347   0                                                                           \n",
       "20893  0                                                                           \n",
       "1862   0                                                                           \n",
       "2605   0                                                                           \n",
       "4302   0                                                                           \n",
       "...   ..                                                                           \n",
       "15995  0                                                                           \n",
       "8034   0                                                                           \n",
       "14173  0                                                                           \n",
       "10362  0                                                                           \n",
       "19723  0                                                                           \n",
       "\n",
       "       occupation_Trades, transport and equipment operators and related occupations  \\\n",
       "9347   0                                                                              \n",
       "20893  0                                                                              \n",
       "1862   0                                                                              \n",
       "2605   0                                                                              \n",
       "4302   0                                                                              \n",
       "...   ..                                                                              \n",
       "15995  0                                                                              \n",
       "8034   0                                                                              \n",
       "14173  0                                                                              \n",
       "10362  0                                                                              \n",
       "19723  0                                                                              \n",
       "\n",
       "       occupation_Transport and heavy equipment operation and related maintenance occupations  \\\n",
       "9347   0                                                                                        \n",
       "20893  0                                                                                        \n",
       "1862   0                                                                                        \n",
       "2605   0                                                                                        \n",
       "4302   0                                                                                        \n",
       "...   ..                                                                                        \n",
       "15995  0                                                                                        \n",
       "8034   0                                                                                        \n",
       "14173  0                                                                                        \n",
       "10362  0                                                                                        \n",
       "19723  1                                                                                        \n",
       "\n",
       "       occupation_Workers in natural resources, agriculture and related production  \\\n",
       "9347   0                                                                             \n",
       "20893  0                                                                             \n",
       "1862   0                                                                             \n",
       "2605   0                                                                             \n",
       "4302   0                                                                             \n",
       "...   ..                                                                             \n",
       "15995  0                                                                             \n",
       "8034   0                                                                             \n",
       "14173  0                                                                             \n",
       "10362  0                                                                             \n",
       "19723  0                                                                             \n",
       "\n",
       "       gender  fulltime_parttime  age_group_15 to 24 years  \\\n",
       "9347   0       1                  0                          \n",
       "20893  1       1                  1                          \n",
       "1862   0       0                  0                          \n",
       "2605   1       0                  1                          \n",
       "4302   0       1                  0                          \n",
       "...   ..      ..                 ..                          \n",
       "15995  1       1                  0                          \n",
       "8034   1       0                  0                          \n",
       "14173  0       1                  1                          \n",
       "10362  0       1                  0                          \n",
       "19723  1       0                  0                          \n",
       "\n",
       "       age_group_25 to 54 years  age_group_55 years and over  \n",
       "9347   0                         1                            \n",
       "20893  0                         0                            \n",
       "1862   1                         0                            \n",
       "2605   0                         0                            \n",
       "4302   1                         0                            \n",
       "...   ..                        ..                            \n",
       "15995  0                         1                            \n",
       "8034   1                         0                            \n",
       "14173  0                         0                            \n",
       "10362  1                         0                            \n",
       "19723  0                         1                            \n",
       "\n",
       "[3960 rows x 55 columns]"
      ]
     },
     "execution_count": 36,
     "metadata": {},
     "output_type": "execute_result"
    }
   ],
   "source": [
    "Z_test"
   ]
  },
  {
   "cell_type": "code",
   "execution_count": 41,
   "metadata": {},
   "outputs": [],
   "source": [
    "model = LinearRegression(normalize=False)\n",
    "\n"
   ]
  },
  {
   "cell_type": "code",
   "execution_count": 42,
   "metadata": {},
   "outputs": [
    {
     "data": {
      "text/plain": [
       "LinearRegression(copy_X=True, fit_intercept=True, n_jobs=None, normalize=False)"
      ]
     },
     "execution_count": 42,
     "metadata": {},
     "output_type": "execute_result"
    }
   ],
   "source": [
    "model.fit(Z_train, y_train)"
   ]
  },
  {
   "cell_type": "code",
   "execution_count": 43,
   "metadata": {},
   "outputs": [],
   "source": [
    "y_pred = model.predict(Z_test)"
   ]
  },
  {
   "cell_type": "code",
   "execution_count": 44,
   "metadata": {},
   "outputs": [
    {
     "data": {
      "text/plain": [
       "array([-20.,  12., 100., ..., -18.,  52.,  38.])"
      ]
     },
     "execution_count": 44,
     "metadata": {},
     "output_type": "execute_result"
    }
   ],
   "source": [
    "y_pred"
   ]
  },
  {
   "cell_type": "code",
   "execution_count": 45,
   "metadata": {},
   "outputs": [],
   "source": [
    "from sklearn.metrics import mean_squared_error, r2_score\n",
    "\n",
    "def rmse_score(model, Z_train, Z_test, y_train, y_test):\n",
    "    mse_train = mean_squared_error(y_true = y_train,\n",
    "                                  y_pred = model.predict(Z_train))\n",
    "    mse_test = mean_squared_error(y_true = y_test,\n",
    "                                  y_pred = model.predict(Z_test))\n",
    "    rmse_train = mse_train ** 0.5/100\n",
    "    rmse_test = mse_test ** 0.5/100\n",
    "    \n",
    "    print(\"The training RMSE for \" + str(model) + \" is: \" + str(rmse_train))\n",
    "    print(\"The testing RMSE for \" + str(model) + \"\\ is: \" + str(rmse_test))\n",
    "    return (rmse_train, rmse_test)\n",
    "\n"
   ]
  },
  {
   "cell_type": "code",
   "execution_count": 46,
   "metadata": {},
   "outputs": [
    {
     "name": "stdout",
     "output_type": "stream",
     "text": [
      "The training RMSE for LinearRegression(copy_X=True, fit_intercept=True, n_jobs=None, normalize=False) is: 0.9035072293493696\n",
      "The testing RMSE for LinearRegression(copy_X=True, fit_intercept=True, n_jobs=None, normalize=False)\\ is: 1.0036332037414502\n"
     ]
    },
    {
     "data": {
      "text/plain": [
       "(0.9035072293493696, 1.0036332037414502)"
      ]
     },
     "execution_count": 46,
     "metadata": {},
     "output_type": "execute_result"
    }
   ],
   "source": [
    "rmse_score(model, Z_train, Z_test, y_train, y_test)"
   ]
  },
  {
   "cell_type": "code",
   "execution_count": 47,
   "metadata": {},
   "outputs": [
    {
     "data": {
      "text/plain": [
       "9347     56.425595 \n",
       "20893    56.425595 \n",
       "1862     69.300000 \n",
       "2605     56.425595 \n",
       "4302     6.700000  \n",
       "           ...     \n",
       "15995    56.425595 \n",
       "8034     262.000000\n",
       "14173    56.425595 \n",
       "10362    10.800000 \n",
       "19723    7.900000  \n",
       "Name: value, Length: 3960, dtype: float64"
      ]
     },
     "execution_count": 47,
     "metadata": {},
     "output_type": "execute_result"
    }
   ],
   "source": [
    "y_test"
   ]
  },
  {
   "cell_type": "code",
   "execution_count": 48,
   "metadata": {},
   "outputs": [
    {
     "data": {
      "text/plain": [
       "array([-20.,  12., 100., ..., -18.,  52.,  38.])"
      ]
     },
     "execution_count": 48,
     "metadata": {},
     "output_type": "execute_result"
    }
   ],
   "source": [
    "y_pred"
   ]
  },
  {
   "cell_type": "code",
   "execution_count": 49,
   "metadata": {},
   "outputs": [
    {
     "data": {
      "text/plain": [
       "0.27835321613527064"
      ]
     },
     "execution_count": 49,
     "metadata": {},
     "output_type": "execute_result"
    }
   ],
   "source": [
    "r2_score(y_test, y_pred)"
   ]
  },
  {
   "cell_type": "code",
   "execution_count": 50,
   "metadata": {},
   "outputs": [
    {
     "data": {
      "text/plain": [
       "(3960, 55)"
      ]
     },
     "execution_count": 50,
     "metadata": {},
     "output_type": "execute_result"
    }
   ],
   "source": [
    "Z_test.shape"
   ]
  },
  {
   "cell_type": "code",
   "execution_count": 51,
   "metadata": {},
   "outputs": [
    {
     "data": {
      "text/plain": [
       "3960"
      ]
     },
     "execution_count": 51,
     "metadata": {},
     "output_type": "execute_result"
    }
   ],
   "source": [
    "y_test.size"
   ]
  },
  {
   "cell_type": "code",
   "execution_count": 52,
   "metadata": {},
   "outputs": [
    {
     "data": {
      "text/plain": [
       "3960"
      ]
     },
     "execution_count": 52,
     "metadata": {},
     "output_type": "execute_result"
    }
   ],
   "source": [
    "y_pred.size"
   ]
  },
  {
   "cell_type": "code",
   "execution_count": 53,
   "metadata": {},
   "outputs": [
    {
     "name": "stdout",
     "output_type": "stream",
     "text": [
      "The training RMSE for KNeighborsRegressor(algorithm='auto', leaf_size=30, metric='minkowski',\n",
      "                    metric_params=None, n_jobs=None, n_neighbors=5, p=2,\n",
      "                    weights='uniform') is: 0.17914365781544578\n",
      "The testing RMSE for KNeighborsRegressor(algorithm='auto', leaf_size=30, metric='minkowski',\n",
      "                    metric_params=None, n_jobs=None, n_neighbors=5, p=2,\n",
      "                    weights='uniform')\\ is: 0.19882908209585917\n"
     ]
    },
    {
     "data": {
      "text/plain": [
       "(0.17914365781544578, 0.19882908209585917)"
      ]
     },
     "execution_count": 53,
     "metadata": {},
     "output_type": "execute_result"
    }
   ],
   "source": [
    "knn_reg = KNeighborsRegressor()\n",
    "knn_reg.fit(Z_train, y_train)\n",
    "\n",
    "rmse_score(knn_reg, Z_train, Z_test, y_train, y_test)\n"
   ]
  },
  {
   "cell_type": "code",
   "execution_count": 54,
   "metadata": {},
   "outputs": [
    {
     "name": "stdout",
     "output_type": "stream",
     "text": [
      "The training RMSE for DecisionTreeRegressor(ccp_alpha=0.0, criterion='mse', max_depth=None,\n",
      "                      max_features=None, max_leaf_nodes=None,\n",
      "                      min_impurity_decrease=0.0, min_impurity_split=None,\n",
      "                      min_samples_leaf=1, min_samples_split=2,\n",
      "                      min_weight_fraction_leaf=0.0, presort='deprecated',\n",
      "                      random_state=None, splitter='best') is: 0.16793394607673556\n",
      "The testing RMSE for DecisionTreeRegressor(ccp_alpha=0.0, criterion='mse', max_depth=None,\n",
      "                      max_features=None, max_leaf_nodes=None,\n",
      "                      min_impurity_decrease=0.0, min_impurity_split=None,\n",
      "                      min_samples_leaf=1, min_samples_split=2,\n",
      "                      min_weight_fraction_leaf=0.0, presort='deprecated',\n",
      "                      random_state=None, splitter='best')\\ is: 0.18898166370679334\n"
     ]
    },
    {
     "data": {
      "text/plain": [
       "(0.16793394607673556, 0.18898166370679334)"
      ]
     },
     "execution_count": 54,
     "metadata": {},
     "output_type": "execute_result"
    }
   ],
   "source": [
    "cart_reg = DecisionTreeRegressor()\n",
    "cart_reg.fit(Z_train, y_train)\n",
    "\n",
    "rmse_score(cart_reg, Z_train, Z_test, y_train, y_test)\n"
   ]
  },
  {
   "cell_type": "code",
   "execution_count": 55,
   "metadata": {},
   "outputs": [
    {
     "name": "stdout",
     "output_type": "stream",
     "text": [
      "The training RMSE for BaggingRegressor(base_estimator=None, bootstrap=True, bootstrap_features=False,\n",
      "                 max_features=1.0, max_samples=1.0, n_estimators=10,\n",
      "                 n_jobs=None, oob_score=False, random_state=None, verbose=0,\n",
      "                 warm_start=False) is: 0.16840915420129465\n",
      "The testing RMSE for BaggingRegressor(base_estimator=None, bootstrap=True, bootstrap_features=False,\n",
      "                 max_features=1.0, max_samples=1.0, n_estimators=10,\n",
      "                 n_jobs=None, oob_score=False, random_state=None, verbose=0,\n",
      "                 warm_start=False)\\ is: 0.18946758278748427\n"
     ]
    },
    {
     "data": {
      "text/plain": [
       "(0.16840915420129465, 0.18946758278748427)"
      ]
     },
     "execution_count": 55,
     "metadata": {},
     "output_type": "execute_result"
    }
   ],
   "source": [
    "bagged_reg = BaggingRegressor()\n",
    "bagged_reg.fit(Z_train, y_train)\n",
    "\n",
    "rmse_score(bagged_reg, Z_train, Z_test, y_train, y_test)\n",
    "\n",
    "\n",
    "\n"
   ]
  },
  {
   "cell_type": "code",
   "execution_count": 56,
   "metadata": {},
   "outputs": [
    {
     "name": "stdout",
     "output_type": "stream",
     "text": [
      "The training RMSE for AdaBoostRegressor(base_estimator=None, learning_rate=1.0, loss='linear',\n",
      "                  n_estimators=50, random_state=None) is: 1.0295338720445704\n",
      "The testing RMSE for AdaBoostRegressor(base_estimator=None, learning_rate=1.0, loss='linear',\n",
      "                  n_estimators=50, random_state=None)\\ is: 0.9937344391137256\n"
     ]
    },
    {
     "data": {
      "text/plain": [
       "(1.0295338720445704, 0.9937344391137256)"
      ]
     },
     "execution_count": 56,
     "metadata": {},
     "output_type": "execute_result"
    }
   ],
   "source": [
    "adaboost_reg = AdaBoostRegressor()\n",
    "adaboost_reg.fit(Z_train, y_train)\n",
    "\n",
    "rmse_score(adaboost_reg, Z_train, Z_test, y_train, y_test)"
   ]
  },
  {
   "cell_type": "code",
   "execution_count": 57,
   "metadata": {},
   "outputs": [
    {
     "name": "stdout",
     "output_type": "stream",
     "text": [
      "The training RMSE for SVR(C=1.0, cache_size=200, coef0=0.0, degree=3, epsilon=0.1, gamma='scale',\n",
      "    kernel='rbf', max_iter=-1, shrinking=True, tol=0.001, verbose=False) is: 1.000415324414014\n",
      "The testing RMSE for SVR(C=1.0, cache_size=200, coef0=0.0, degree=3, epsilon=0.1, gamma='scale',\n",
      "    kernel='rbf', max_iter=-1, shrinking=True, tol=0.001, verbose=False)\\ is: 1.0913229148197614\n"
     ]
    },
    {
     "data": {
      "text/plain": [
       "(1.000415324414014, 1.0913229148197614)"
      ]
     },
     "execution_count": 57,
     "metadata": {},
     "output_type": "execute_result"
    }
   ],
   "source": [
    "support_vector_reg = SVR()\n",
    "support_vector_reg.fit(Z_train, y_train)\n",
    "\n",
    "rmse_score(support_vector_reg, Z_train, Z_test, y_train, y_test)"
   ]
  },
  {
   "cell_type": "code",
   "execution_count": 58,
   "metadata": {},
   "outputs": [
    {
     "data": {
      "text/plain": [
       "Pipeline(memory=None,\n",
       "         steps=[('mapper',\n",
       "                 DataFrameMapper(default=False, df_out=True,\n",
       "                                 features=[(['occupation'],\n",
       "                                            [LabelBinarizer(neg_label=0,\n",
       "                                                            pos_label=1,\n",
       "                                                            sparse_output=False)]),\n",
       "                                           (['gender'],\n",
       "                                            [LabelBinarizer(neg_label=0,\n",
       "                                                            pos_label=1,\n",
       "                                                            sparse_output=False)]),\n",
       "                                           (['fulltime_parttime'],\n",
       "                                            [LabelBinarizer(neg_label=0,\n",
       "                                                            pos_label=1,\n",
       "                                                            sparse_output=False)]),\n",
       "                                           (['age_group'],\n",
       "                                            [LabelBinarizer(neg_label=0,\n",
       "                                                            pos_label=1,\n",
       "                                                            sparse_output=False)])],\n",
       "                                 input_df=False, sparse=False)),\n",
       "                ('model',\n",
       "                 LinearRegression(copy_X=True, fit_intercept=True, n_jobs=None,\n",
       "                                  normalize=False))],\n",
       "         verbose=False)"
      ]
     },
     "execution_count": 58,
     "metadata": {},
     "output_type": "execute_result"
    }
   ],
   "source": [
    "pipe = Pipeline([(\"mapper\", mapper), (\"model\", model)])\n",
    "pipe.fit(X_train, y_train)"
   ]
  },
  {
   "cell_type": "code",
   "execution_count": 59,
   "metadata": {},
   "outputs": [],
   "source": [
    "employed_value = pipe.predict(X_test)"
   ]
  },
  {
   "cell_type": "code",
   "execution_count": 60,
   "metadata": {},
   "outputs": [],
   "source": [
    "employed_value = (np.round(employed_value, 1)).astype('int')"
   ]
  },
  {
   "cell_type": "code",
   "execution_count": 61,
   "metadata": {},
   "outputs": [
    {
     "data": {
      "text/plain": [
       "array([-20,  12, 100, ..., -18,  52,  38])"
      ]
     },
     "execution_count": 61,
     "metadata": {},
     "output_type": "execute_result"
    }
   ],
   "source": [
    "employed_value"
   ]
  },
  {
   "cell_type": "code",
   "execution_count": 62,
   "metadata": {},
   "outputs": [
    {
     "data": {
      "text/plain": [
       "Pipeline(memory=None,\n",
       "         steps=[('mapper',\n",
       "                 DataFrameMapper(default=False, df_out=True,\n",
       "                                 features=[(['occupation'],\n",
       "                                            TransformerPipeline(steps=[('labelbinarizer',\n",
       "                                                                        LabelBinarizer(neg_label=0,\n",
       "                                                                                       pos_label=1,\n",
       "                                                                                       sparse_output=False))]),\n",
       "                                            {}),\n",
       "                                           (['gender'],\n",
       "                                            TransformerPipeline(steps=[('labelbinarizer',\n",
       "                                                                        LabelBinarizer(neg_label=0,\n",
       "                                                                                       pos_label=1,\n",
       "                                                                                       sparse_output=False))]),\n",
       "                                            {}),\n",
       "                                           (['fullt...\n",
       "                                            TransformerPipeline(steps=[('labelbinarizer',\n",
       "                                                                        LabelBinarizer(neg_label=0,\n",
       "                                                                                       pos_label=1,\n",
       "                                                                                       sparse_output=False))]),\n",
       "                                            {}),\n",
       "                                           (['age_group'],\n",
       "                                            TransformerPipeline(steps=[('labelbinarizer',\n",
       "                                                                        LabelBinarizer(neg_label=0,\n",
       "                                                                                       pos_label=1,\n",
       "                                                                                       sparse_output=False))]),\n",
       "                                            {})],\n",
       "                                 input_df=False, sparse=False)),\n",
       "                ('model',\n",
       "                 LinearRegression(copy_X=True, fit_intercept=True, n_jobs=None,\n",
       "                                  normalize=False))],\n",
       "         verbose=False)"
      ]
     },
     "execution_count": 62,
     "metadata": {},
     "output_type": "execute_result"
    }
   ],
   "source": [
    "pickle.dump(pipe, open('pipe.pkl', 'wb'))\n",
    "del pipe\n",
    "pipe = pickle.load(open('pipe.pkl', 'rb'))\n",
    "pipe"
   ]
  }
 ],
 "metadata": {
  "kernelspec": {
   "display_name": "Python 3",
   "language": "python",
   "name": "python3"
  },
  "language_info": {
   "codemirror_mode": {
    "name": "ipython",
    "version": 3
   },
   "file_extension": ".py",
   "mimetype": "text/x-python",
   "name": "python",
   "nbconvert_exporter": "python",
   "pygments_lexer": "ipython3",
   "version": "3.7.4"
  }
 },
 "nbformat": 4,
 "nbformat_minor": 2
}
